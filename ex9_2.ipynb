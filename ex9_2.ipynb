{
  "nbformat": 4,
  "nbformat_minor": 0,
  "metadata": {
    "colab": {
      "name": "ex9.2.ipynb",
      "provenance": [],
      "collapsed_sections": [],
      "machine_shape": "hm",
      "mount_file_id": "1tII5iHKJmAxJBAGTIUGL8wJIRlcl1_l6",
      "authorship_tag": "ABX9TyMVkZtdYMR4VPvbTRuC6h2Z",
      "include_colab_link": true
    },
    "kernelspec": {
      "name": "python3",
      "display_name": "Python 3"
    }
  },
  "cells": [
    {
      "cell_type": "markdown",
      "metadata": {
        "id": "view-in-github",
        "colab_type": "text"
      },
      "source": [
        "<a href=\"https://colab.research.google.com/github/mikkeljais/sds_tddl_2020/blob/master/ex9_2.ipynb\" target=\"_parent\"><img src=\"https://colab.research.google.com/assets/colab-badge.svg\" alt=\"Open In Colab\"/></a>"
      ]
    },
    {
      "cell_type": "code",
      "metadata": {
        "id": "iFmvacNpvt-Q",
        "colab_type": "code",
        "outputId": "1498bece-37d4-43ce-a69c-347b920804c8",
        "colab": {
          "base_uri": "https://localhost:8080/",
          "height": 73
        }
      },
      "source": [
        "#Exercise 9.1 & 9.2\n",
        "import tensorflow as tf\n",
        "import tensorflow_hub as hub\n",
        "import pandas as pd\n",
        "import numpy as np\n",
        "import matplotlib.pyplot as plt\n",
        "import seaborn as sns\n",
        "\n",
        "import keras\n",
        "from keras.datasets import mnist\n",
        "from keras.models import Sequential\n",
        "from keras.layers import Dense, Dropout, Activation\n",
        "from keras.utils import np_utils"
      ],
      "execution_count": 1,
      "outputs": [
        {
          "output_type": "stream",
          "text": [
            "/usr/local/lib/python3.6/dist-packages/statsmodels/tools/_testing.py:19: FutureWarning: pandas.util.testing is deprecated. Use the functions in the public API at pandas.testing instead.\n",
            "  import pandas.util.testing as tm\n",
            "Using TensorFlow backend.\n"
          ],
          "name": "stderr"
        }
      ]
    },
    {
      "cell_type": "code",
      "metadata": {
        "id": "jZSeOmLJvwJf",
        "colab_type": "code",
        "outputId": "35b19929-d6e8-43b2-c99c-c5d86f21edc2",
        "colab": {
          "base_uri": "https://localhost:8080/",
          "height": 36
        }
      },
      "source": [
        "# load dataset\n",
        "path2tox_data = '/content/drive/My Drive/Colab Notebooks/train.csv'\n",
        "tox_df = pd.read_csv(path2tox_data)\n",
        "\n",
        "tox_df['label'] = (tox_df.target>0.5).astype(int)\n",
        "\n",
        "strat_sample_cols = list(tox_df.columns[3:23])+['physical_disability',\n",
        "       'psychiatric_or_mental_illness', 'transgender', 'white']\n",
        "samples = []\n",
        "n = 500\n",
        "for col in strat_sample_cols:\n",
        "    binary = pd.DataFrame((tox_df[col]>0.5).astype(int))\n",
        "    samples+=[j for _,j in binary.groupby(col).apply(lambda x: x.sample(min(len(x),n//2))).index]\n",
        "idx = list(set(samples))\n",
        "df = tox_df.iloc[idx].copy()\n",
        "\n",
        "sample = df.groupby('label').apply(lambda x: x.sample(500))\n",
        "sample_texts = sample.comment_text.values\n",
        "print(df.shape,tox_df.shape)\n",
        "\n",
        "test_df = pd.read_csv('/content/drive/My Drive/test.csv')\n",
        "\n"
      ],
      "execution_count": 2,
      "outputs": [
        {
          "output_type": "stream",
          "text": [
            "(11113, 46) (1804874, 46)\n"
          ],
          "name": "stdout"
        }
      ]
    },
    {
      "cell_type": "code",
      "metadata": {
        "id": "hc6uxXtFvyxm",
        "colab_type": "code",
        "colab": {}
      },
      "source": [
        "from sklearn.model_selection import train_test_split\n",
        "\n",
        "x_train, x_test, y_train, y_test = train_test_split(tox_df['comment_text'], \n",
        "                                                    tox_df['label'], \n",
        "                                                    test_size=0.3, \n",
        "                                                    stratify=np.array(tox_df['label']), \n",
        "                                                    random_state=42)\n",
        "\n",
        "val_dat = (np.array([i for i in x_test.values]), y_test.values)"
      ],
      "execution_count": 0,
      "outputs": []
    },
    {
      "cell_type": "code",
      "metadata": {
        "id": "4uAf_d1LxcHN",
        "colab_type": "code",
        "outputId": "a94abead-a5b7-4c93-baba-2f720f011027",
        "colab": {
          "base_uri": "https://localhost:8080/",
          "height": 223
        }
      },
      "source": [
        "#defining the basemodel\n",
        "\n",
        "embed = hub.load(\"https://tfhub.dev/google/universal-sentence-encoder/4\")\n",
        "basetfmodel = tf.keras.models.Sequential()\n",
        "basetfmodel.add(hub.KerasLayer(embed, input_shape=[], dtype=tf.string, trainable=False))\n",
        "#Training is performed on the toxicity data, but only on the comment text\n",
        "basetfmodel.compile(optimizer=tf.keras.optimizers.Adam('adam', {'Dense': 0.5, 'Output': 1.5}),  loss='sparse_categorical_crossentropy')\n",
        "basetfmodel.fit(x_train, epochs=5, batch_size=None) #validation_data=(x_test, y_test), validation_data_batch_size=50000)"
      ],
      "execution_count": 89,
      "outputs": [
        {
          "output_type": "stream",
          "text": [
            "Epoch 1/5\n",
            "39482/39482 [==============================] - 35s 876us/step - loss: 0.0000e+00\n",
            "Epoch 2/5\n",
            "39482/39482 [==============================] - 35s 878us/step - loss: 0.0000e+00\n",
            "Epoch 3/5\n",
            "39482/39482 [==============================] - 35s 890us/step - loss: 0.0000e+00\n",
            "Epoch 4/5\n",
            "39482/39482 [==============================] - 35s 894us/step - loss: 0.0000e+00\n",
            "Epoch 5/5\n",
            "39482/39482 [==============================] - 36s 911us/step - loss: 0.0000e+00\n"
          ],
          "name": "stdout"
        },
        {
          "output_type": "execute_result",
          "data": {
            "text/plain": [
              "<tensorflow.python.keras.callbacks.History at 0x7fe0dc23f128>"
            ]
          },
          "metadata": {
            "tags": []
          },
          "execution_count": 89
        }
      ]
    },
    {
      "cell_type": "code",
      "metadata": {
        "id": "kSx2nF58oZal",
        "colab_type": "code",
        "colab": {}
      },
      "source": [
        "#9.1.2\n",
        "## using sklearn for splitting the dataset in train and validation set\n",
        "\n",
        "from sklearn.metrics import confusion_matrix,classification_report, roc_auc_score,roc_curve,auc\n",
        "from sklearn.model_selection import train_test_split\n",
        "from sklearn.linear_model import SGDClassifier\n",
        "from sklearn.calibration import CalibratedClassifierCV\n",
        "\n",
        "train, val = train_test_split(tox_df,test_size = 0.05, random_state = 23)\n",
        "\n"
      ],
      "execution_count": 0,
      "outputs": []
    },
    {
      "cell_type": "code",
      "metadata": {
        "id": "AXf5ZPvFSPIM",
        "colab_type": "code",
        "colab": {}
      },
      "source": [
        "## these are the identity columns or minorities if you will \n",
        "\n",
        "identity_columns = ['asian', 'atheist',\n",
        "       'black', 'buddhist', 'christian', 'female',\n",
        "       'heterosexual', 'hindu', 'homosexual_gay_or_lesbian',\n",
        "       'jewish', 'latino', 'male',\n",
        "       'muslim','psychiatric_or_mental_illness', 'transgender', 'white']\n",
        "\n",
        "y_identities_train = (train[identity_columns] >= 0.5).astype(int).values\n",
        "y_identities_val = (val[identity_columns] >= 0.5).astype(int).values"
      ],
      "execution_count": 0,
      "outputs": []
    },
    {
      "cell_type": "code",
      "metadata": {
        "id": "nyVlDzQQoo8z",
        "colab_type": "code",
        "colab": {}
      },
      "source": [
        "for column in identity_columns + ['target']:\n",
        "    df[column] = np.where(df[column] >= 0.5, True, False)\n"
      ],
      "execution_count": 0,
      "outputs": []
    },
    {
      "cell_type": "code",
      "metadata": {
        "id": "-caEDuoZa2cG",
        "colab_type": "code",
        "colab": {}
      },
      "source": [
        "# Target variable as well\n",
        "y = tox_df['target'].values"
      ],
      "execution_count": 0,
      "outputs": []
    },
    {
      "cell_type": "code",
      "metadata": {
        "id": "1dFUbUgNa6Xf",
        "colab_type": "code",
        "colab": {}
      },
      "source": [
        "#vectorizing the words\n",
        "train_df, cv_df, y_train, y_cv = train_test_split(tox_df, y, test_size=0.2, random_state=42)"
      ],
      "execution_count": 0,
      "outputs": []
    },
    {
      "cell_type": "code",
      "metadata": {
        "id": "9lvQNJM-bBxO",
        "colab_type": "code",
        "colab": {}
      },
      "source": [
        "from sklearn.feature_extraction.text import TfidfVectorizer\n",
        "vectorizer = TfidfVectorizer(ngram_range=(1,2),\n",
        "               min_df=3, max_df=0.9, strip_accents='unicode', use_idf=1,\n",
        "               smooth_idf=1, sublinear_tf=1 )"
      ],
      "execution_count": 0,
      "outputs": []
    },
    {
      "cell_type": "code",
      "metadata": {
        "id": "YUgqXGZ4bEPQ",
        "colab_type": "code",
        "colab": {}
      },
      "source": [
        "train_tfidf = vectorizer.fit_transform(train_df[\"comment_text\"])\n",
        "cv_tfidf = vectorizer.transform(cv_df[\"comment_text\"])\n",
        "test_tfidf = vectorizer.transform(test_df[\"comment_text\"])"
      ],
      "execution_count": 0,
      "outputs": []
    },
    {
      "cell_type": "code",
      "metadata": {
        "id": "shC_-C9nbGjG",
        "colab_type": "code",
        "colab": {}
      },
      "source": [
        "#defining the confusion matrix\n",
        "def print_confusion_matrix(confusion_matrix, class_names, figsize = (6,4), fontsize=14):\n",
        "    tox_df_cm = pd.DataFrame(\n",
        "        confusion_matrix,index=class_names, columns=class_names\n",
        "    )\n",
        "    fig = plt.figure(figsize=figsize)\n",
        "    heatmap = sns.heatmap(tox_df_cm, annot=True, fmt=\"d\")\n",
        "    heatmap.yaxis.set_ticklabels(heatmap.yaxis.get_ticklabels(), rotation=0, ha='right', fontsize=fontsize)\n",
        "    heatmap.xaxis.set_ticklabels(heatmap.xaxis.get_ticklabels(), rotation=45, ha='right', fontsize=fontsize)\n",
        "    plt.ylabel('Actual label')\n",
        "    plt.xlabel('Predicted label')"
      ],
      "execution_count": 0,
      "outputs": []
    },
    {
      "cell_type": "code",
      "metadata": {
        "id": "vtNBaoolbfdy",
        "colab_type": "code",
        "colab": {}
      },
      "source": [
        "#setting a threshold\n",
        "def threshold_based_prediction(proba,threshold,tpr,fpr):\n",
        "    thres = threshold[np.argmax(fpr*(1-tpr))]\n",
        "    predictions = []\n",
        "    for i in proba:\n",
        "        if i>=thres:\n",
        "            predictions.append(1)\n",
        "        else:\n",
        "            predictions.append(0)\n",
        "    return predictions"
      ],
      "execution_count": 0,
      "outputs": []
    },
    {
      "cell_type": "code",
      "metadata": {
        "id": "a3aHpmjHnlLY",
        "colab_type": "code",
        "colab": {}
      },
      "source": [
        "#Using TFIDF to vectorize the data\n",
        "alpha = [10 ** x for x in range(-5, 2)]\n",
        "auc_array_train=[]\n",
        "auc_array_cv=[]\n",
        "for i in alpha:\n",
        "  clf = SGDClassifier(alpha=i, penalty='l2', loss='log', random_state=5,class_weight='balanced')\n",
        "  clf.fit(train_tfidf, y_train)\n",
        "  sig_clf = CalibratedClassifierCV(clf, method=\"sigmoid\")\n",
        "  sig_clf.fit(train_tfidf, y_train)\n",
        "    \n",
        "    \n",
        "  predict_y_train = sig_clf.predict_proba(train_tfidf)[:,1]\n",
        "  predict_y = sig_clf.predict_proba(cv_tfidf)[:,1]\n",
        "  auc_array_train.append(roc_auc_score(y_train, predict_y_train))\n",
        "  auc_array_cv.append(roc_auc_score(y_cv, predict_y))"
      ],
      "execution_count": 0,
      "outputs": []
    },
    {
      "cell_type": "code",
      "metadata": {
        "id": "aYbScWneOOG2",
        "colab_type": "code",
        "colab": {}
      },
      "source": [
        "#defining false positive rate and true positive rate etc.\n",
        "fpr_train, tpr_train, threshold_train = roc_curve(y_train, predict_y_train)\n",
        "fpr_test, tpr_test, threshold_test = roc_curve(y_cv, predict_y)\n",
        "\n",
        "roc_auc_train = auc(fpr_train, tpr_train)\n",
        "roc_auc_test = auc(fpr_test, tpr_test)\n"
      ],
      "execution_count": 0,
      "outputs": []
    },
    {
      "cell_type": "code",
      "metadata": {
        "id": "jTnK5BjQh830",
        "colab_type": "code",
        "outputId": "a28e745d-4625-42bd-bbfe-32eb66efe869",
        "colab": {
          "base_uri": "https://localhost:8080/",
          "height": 335
        }
      },
      "source": [
        "from sklearn.linear_model import SGDClassifier\n",
        "clf = SGDClassifier(alpha=0.00001, penalty='l2', loss='log', random_state=42,class_weight='balanced')\n",
        "clf.fit(train_tfidf, y_train)\n",
        "sig_clf = CalibratedClassifierCV(clf, method=\"sigmoid\")\n",
        "sig_clf.fit(train_tfidf, y_train)\n",
        "\n"
      ],
      "execution_count": 16,
      "outputs": [
        {
          "output_type": "execute_result",
          "data": {
            "text/plain": [
              "CalibratedClassifierCV(base_estimator=SGDClassifier(alpha=1e-05, average=False,\n",
              "                                                    class_weight='balanced',\n",
              "                                                    early_stopping=False,\n",
              "                                                    epsilon=0.1, eta0=0.0,\n",
              "                                                    fit_intercept=True,\n",
              "                                                    l1_ratio=0.15,\n",
              "                                                    learning_rate='optimal',\n",
              "                                                    loss='log', max_iter=1000,\n",
              "                                                    n_iter_no_change=5,\n",
              "                                                    n_jobs=None, penalty='l2',\n",
              "                                                    power_t=0.5,\n",
              "                                                    random_state=42,\n",
              "                                                    shuffle=True, tol=0.001,\n",
              "                                                    validation_fraction=0.1,\n",
              "                                                    verbose=0,\n",
              "                                                    warm_start=False),\n",
              "                       cv=None, method='sigmoid')"
            ]
          },
          "metadata": {
            "tags": []
          },
          "execution_count": 16
        }
      ]
    },
    {
      "cell_type": "code",
      "metadata": {
        "id": "7bopqCStf0rN",
        "colab_type": "code",
        "outputId": "f0706433-b115-4aad-afd3-52936b164c56",
        "colab": {
          "base_uri": "https://localhost:8080/",
          "height": 364
        }
      },
      "source": [
        "predtrain = sig_clf.predict_proba(train_tfidf)[:,1]\n",
        "predcv = sig_clf.predict_proba(cv_tfidf)[:,1]\n",
        "pred = sig_clf.predict_proba(test_tfidf)[:,1]\n",
        "predtrain = threshold_based_prediction(predtrain,threshold_train,tpr_train,fpr_train)\n",
        "cm = confusion_matrix(y_train, predtrain)\n",
        "print(\"\\tToxic Train data confusion matrix\")\n",
        "print_confusion_matrix(cm,class_names=['NON-TOXIC','TOXIC'])"
      ],
      "execution_count": 21,
      "outputs": [
        {
          "output_type": "stream",
          "text": [
            "\tToxic Train data confusion matrix\n"
          ],
          "name": "stdout"
        },
        {
          "output_type": "display_data",
          "data": {
            "image/png": "[encoded data removed]",
            "text/plain": [
              "<Figure size 432x288 with 2 Axes>"
            ]
          },
          "metadata": {
            "tags": [],
            "needs_background": "light"
          }
        }
      ]
    },
    {
      "cell_type": "markdown",
      "metadata": {
        "id": "QJgNXnJE_r-s",
        "colab_type": "text"
      },
      "source": [
        "So from the confusion matrix it is visible that of the overall comment-texts 1106742 non-toxic comments are being correctly classified as non-toxic comments, i.e. around 80% are true positives (correctly classified as non-toxic). It is also seen that 106602 comment-texts are true negatives, i.e. 106602 toxic comments are being correctly classified as being toxic out of a total of 115256 toxic comments. This means that the accuracy to which the true negatives is classified amounts to around 92%. In conclusion it can be said, that the model is better at classifying toxic comment correctly compared to classification of non-toxic comments. So there is more classification error for the non-toxic comments than the toxic comments."
      ]
    },
    {
      "cell_type": "code",
      "metadata": {
        "id": "E3PnWHycrn34",
        "colab_type": "code",
        "colab": {
          "base_uri": "https://localhost:8080/",
          "height": 186
        },
        "outputId": "09eb42cd-e965-491e-ddcd-63d5d2badeb7"
      },
      "source": [
        "print(classification_report(y_cv,predcv.round()))"
      ],
      "execution_count": 25,
      "outputs": [
        {
          "output_type": "stream",
          "text": [
            "              precision    recall  f1-score   support\n",
            "\n",
            "       False       0.95      0.99      0.97    331897\n",
            "        True       0.79      0.38      0.51     29078\n",
            "\n",
            "    accuracy                           0.94    360975\n",
            "   macro avg       0.87      0.68      0.74    360975\n",
            "weighted avg       0.93      0.94      0.93    360975\n",
            "\n"
          ],
          "name": "stdout"
        }
      ]
    },
    {
      "cell_type": "markdown",
      "metadata": {
        "id": "FNBBKYxI-ffQ",
        "colab_type": "text"
      },
      "source": [
        "It can be concluded that the model is slightly overfitting on the toxic-train data. The model is not doing a particularly good job against the unintended bias which we seek to avoid.\n",
        "From the F1 score we can see that the model does a better job in correctly classifying the toxic-comments as being toxic, compared with correctly classifying non-toxic comments as being non-toxic.\n",
        "\n"
      ]
    },
    {
      "cell_type": "code",
      "metadata": {
        "id": "N-X5p5udQRYi",
        "colab_type": "code",
        "colab": {}
      },
      "source": [
        "#exercise 9.3\n"
      ],
      "execution_count": 0,
      "outputs": []
    }
  ]
}