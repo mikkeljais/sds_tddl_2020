{
  "nbformat": 4,
  "nbformat_minor": 0,
  "metadata": {
    "colab": {
      "name": "ex4part2EX.ipynb",
      "provenance": [],
      "collapsed_sections": [],
      "mount_file_id": "1C6LIQRZf2xfh-ISFruumDBtmGE7pbVOR",
      "authorship_tag": "ABX9TyOt9YcxkTHYRO13vvsLD4T+",
      "include_colab_link": true
    },
    "kernelspec": {
      "name": "python3",
      "display_name": "Python 3"
    }
  },
  "cells": [
    {
      "cell_type": "markdown",
      "metadata": {
        "id": "view-in-github",
        "colab_type": "text"
      },
      "source": [
        "<a href=\"https://colab.research.google.com/github/mikkeljais/sds_tddl_2020/blob/master/ex4part2EX.ipynb\" target=\"_parent\"><img src=\"https://colab.research.google.com/assets/colab-badge.svg\" alt=\"Open In Colab\"/></a>"
      ]
    },
    {
      "cell_type": "code",
      "metadata": {
        "id": "-49sw-xPUus9",
        "colab_type": "code",
        "colab": {}
      },
      "source": [
        "import requests\n",
        "with open('get_bow_baseline.py','w') as f:\n",
        "    f.write(requests.get('https://raw.githubusercontent.com/snorreralund/test_tokenization/master/get_bow_baseline.py').text)\n",
        "f.close()\n"
      ],
      "execution_count": 0,
      "outputs": []
    },
    {
      "cell_type": "code",
      "metadata": {
        "id": "WT9jNmLLYGei",
        "colab_type": "code",
        "colab": {
          "base_uri": "https://localhost:8080/",
          "height": 54
        },
        "outputId": "29d7c03c-ce82-4c51-874d-825201fbcafb"
      },
      "source": [
        "#Using BOW\n",
        "import get_bow_baseline as baseline\n",
        "baseline = baseline.TokenizationTest(train,test,MAX_EVALS=1,scoring_function='accuracy_score',y_col='label',text_col='text')\n",
        "import warnings; warnings.simplefilter('ignore')\n",
        "import nltk\n",
        "tokenizer = nltk.tokenize.TweetTokenizer().tokenize\n",
        "baseline.evaluate('nltk_tweet',tokenizer)"
      ],
      "execution_count": 6,
      "outputs": [
        {
          "output_type": "stream",
          "text": [
            "100%|██████████| 1/1 [00:09<00:00,  9.31s/it, best loss: 0.08843777777777773]\n",
            "Final accuracy and roc_auc score of tokenizer (nltk_tweet) + nb_log: 0.931 and 0.959\n"
          ],
          "name": "stdout"
        }
      ]
    },
    {
      "cell_type": "code",
      "metadata": {
        "id": "7XpvbcbNhL4e",
        "colab_type": "code",
        "colab": {}
      },
      "source": [
        "#proportions is estimated using Classify&Count method on the test set for each group\n",
        "# Estimate diffential bias. \n",
        "from tensorflow.keras.metrics import FalseNegatives, TrueNegatives, FalsePositives, TruePositives\n",
        "\n",
        "meta_columns = ['Sex', 'Ethnicity', 'Locality', 'Category', 'domain']\n"
      ],
      "execution_count": 0,
      "outputs": []
    },
    {
      "cell_type": "code",
      "metadata": {
        "id": "OhgL2Tctk84l",
        "colab_type": "code",
        "colab": {}
      },
      "source": [
        "# Doing TF-IDF (here I am using the solution for exercises week 8)\n",
        "from sklearn.linear_model import LogisticRegression\n",
        "import sklearn.feature_extraction.text\n",
        "vectorizer = sklearn.feature_extraction.text.CountVectorizer(ngram_range=(1,4),min_df=5)\n",
        "te_bows = vectorizer.fit_transform([i.lower() for i in test['text']])\n",
        "tr_bows = vectorizer.fit_transform([i.lower() for i in train['text']])\n",
        "\n",
        "tfidf_trans = sklearn.feature_extraction.text.TfidfTransformer()\n",
        "x_test_tfidf = tfidf_trans.fit_tranform(te_bows)\n",
        "x_train_tfidf = tfidf_trans.fit_tranform(tr_bows)\n",
        "\n",
        "log_mod = LogisticRegression(max_iter=10)\n",
        "\n",
        "log_mod.fit(x_train_tfidf,train['label'])\n",
        "log_mod.score(x_test_tfidf,test['label'])\n",
        "\n",
        "test['predicted'] = list(log_mod.predict(x_test_tfidf))"
      ],
      "execution_count": 0,
      "outputs": []
    },
    {
      "cell_type": "markdown",
      "metadata": {
        "id": "oX9BjVBhxITK",
        "colab_type": "text"
      },
      "source": [
        "I tried to run this step both locally on my machine aswell as in Google Colab, but it keeps crashing at the above step. After this step I was suppose to run something in the line of the below code, and then obtain the Pearson corrcoef. score and RMSD for all metacolumns, but I haven't been able to fix this issue. :("
      ]
    },
    {
      "cell_type": "code",
      "metadata": {
        "id": "Uh3lcs4AjRKx",
        "colab_type": "code",
        "colab": {}
      },
      "source": [
        "import numpy as np\n",
        "print('Pearson r: %.3f'%np.corrcoef(meta_column['sex'],diff_bias.clf_pos_freq)[0][1])\n",
        "\n",
        "print('RMSD freq: %.3f'%sklearn.metrics.mean_squared_error(diff_bias.pos_freq,diff_bias.clf_pos_freq))\n",
        "print('RMSD abs: %.3f'%sklearn.metrics.mean_squared_error(diff_bias.pos,diff_bias.tp+diff_bias.fp))\n",
        "\n"
      ],
      "execution_count": 0,
      "outputs": []
    }
  ]
}