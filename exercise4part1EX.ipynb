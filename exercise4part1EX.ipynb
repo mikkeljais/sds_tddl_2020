{
  "nbformat": 4,
  "nbformat_minor": 0,
  "metadata": {
    "colab": {
      "name": "exercise4part1EX.ipynb",
      "provenance": [],
      "collapsed_sections": [],
      "mount_file_id": "1cQysNa2NhVWp7KkAob23i9n7CZKjYTD8",
      "authorship_tag": "ABX9TyOc51WArw1Jg/JAA3Gb+Vdr",
      "include_colab_link": true
    },
    "kernelspec": {
      "name": "python3",
      "display_name": "Python 3"
    }
  },
  "cells": [
    {
      "cell_type": "markdown",
      "metadata": {
        "id": "view-in-github",
        "colab_type": "text"
      },
      "source": [
        "<a href=\"https://colab.research.google.com/github/mikkeljais/sds_tddl_2020/blob/master/exercise4part1EX.ipynb\" target=\"_parent\"><img src=\"https://colab.research.google.com/assets/colab-badge.svg\" alt=\"Open In Colab\"/></a>"
      ]
    },
    {
      "cell_type": "code",
      "metadata": {
        "id": "MKQ073yyDrq-",
        "colab_type": "code",
        "colab": {
          "base_uri": "https://localhost:8080/",
          "height": 35
        },
        "outputId": "f7b07ac9-d3a1-4c0a-a1f1-a67b40b35059"
      },
      "source": [
        "%matplotlib inline\n",
        "import pandas as pd\n",
        "import numpy as np\n",
        "import matplotlib.pylab as plt\n",
        "from scipy.interpolate import interp1d\n",
        "import keras\n",
        "from keras.models import Sequential\n",
        "from keras.layers import Dense, Activation"
      ],
      "execution_count": 1,
      "outputs": [
        {
          "output_type": "stream",
          "text": [
            "Using TensorFlow backend.\n"
          ],
          "name": "stderr"
        }
      ]
    },
    {
      "cell_type": "code",
      "metadata": {
        "id": "NaEwnKCwEFXv",
        "colab_type": "code",
        "colab": {
          "base_uri": "https://localhost:8080/",
          "height": 206
        },
        "outputId": "c9d4e31f-2fcd-4fe3-848b-d7177bcf8c79"
      },
      "source": [
        "#load train and test data\n",
        "train=pd.read_csv('/content/drive/My Drive/exam_data/train.csv')\n",
        "test=pd.read_csv('/content/drive/My Drive/exam_data/test.csv')\n",
        "\n",
        "train.head()"
      ],
      "execution_count": 2,
      "outputs": [
        {
          "output_type": "execute_result",
          "data": {
            "text/html": [
              "<div>\n",
              "<style scoped>\n",
              "    .dataframe tbody tr th:only-of-type {\n",
              "        vertical-align: middle;\n",
              "    }\n",
              "\n",
              "    .dataframe tbody tr th {\n",
              "        vertical-align: top;\n",
              "    }\n",
              "\n",
              "    .dataframe thead th {\n",
              "        text-align: right;\n",
              "    }\n",
              "</style>\n",
              "<table border=\"1\" class=\"dataframe\">\n",
              "  <thead>\n",
              "    <tr style=\"text-align: right;\">\n",
              "      <th></th>\n",
              "      <th>Unnamed: 0</th>\n",
              "      <th>text</th>\n",
              "      <th>headline</th>\n",
              "      <th>rating</th>\n",
              "      <th>Sex</th>\n",
              "      <th>Ethnicity</th>\n",
              "      <th>Month</th>\n",
              "      <th>Category</th>\n",
              "      <th>Locality</th>\n",
              "      <th>domain</th>\n",
              "      <th>label</th>\n",
              "    </tr>\n",
              "  </thead>\n",
              "  <tbody>\n",
              "    <tr>\n",
              "      <th>0</th>\n",
              "      <td>19769</td>\n",
              "      <td>I paid for indoor parking and when I arrived n...</td>\n",
              "      <td>I paid for indoor parking...</td>\n",
              "      <td>2.0</td>\n",
              "      <td>male</td>\n",
              "      <td>European</td>\n",
              "      <td>2018-06-01</td>\n",
              "      <td>travel_holidays</td>\n",
              "      <td>San Leandro</td>\n",
              "      <td>https://trustpilot.com/review/www.expressopark...</td>\n",
              "      <td>0</td>\n",
              "    </tr>\n",
              "    <tr>\n",
              "      <th>1</th>\n",
              "      <td>127049</td>\n",
              "      <td>Part's were easy to find and great information...</td>\n",
              "      <td>easy to find and order parts with great inform...</td>\n",
              "      <td>5.0</td>\n",
              "      <td>male</td>\n",
              "      <td>European</td>\n",
              "      <td>2016-05-01</td>\n",
              "      <td>transportation</td>\n",
              "      <td>Marlton</td>\n",
              "      <td>https://trustpilot.com/review/www.partsgeek.com</td>\n",
              "      <td>1</td>\n",
              "    </tr>\n",
              "    <tr>\n",
              "      <th>2</th>\n",
              "      <td>211740</td>\n",
              "      <td>We had a shipping error and Legacy Headstones ...</td>\n",
              "      <td>Excellent customer service and quality products!!</td>\n",
              "      <td>5.0</td>\n",
              "      <td>male</td>\n",
              "      <td>European</td>\n",
              "      <td>2017-06-01</td>\n",
              "      <td>companies</td>\n",
              "      <td>East Liverpool, OH 43920</td>\n",
              "      <td>https://trustpilot.com/review/legacyheadstones...</td>\n",
              "      <td>1</td>\n",
              "    </tr>\n",
              "    <tr>\n",
              "      <th>3</th>\n",
              "      <td>116665</td>\n",
              "      <td>Prices are great and service too keep up the g...</td>\n",
              "      <td>Prices are great and service too keep …</td>\n",
              "      <td>4.0</td>\n",
              "      <td>NaN</td>\n",
              "      <td>NaN</td>\n",
              "      <td>2017-06-01</td>\n",
              "      <td>travel_holidays</td>\n",
              "      <td>NaN</td>\n",
              "      <td>https://trustpilot.com/review/justfly.com</td>\n",
              "      <td>1</td>\n",
              "    </tr>\n",
              "    <tr>\n",
              "      <th>4</th>\n",
              "      <td>19867</td>\n",
              "      <td>this is a great site and easy to use. I like t...</td>\n",
              "      <td>great site, easy to use</td>\n",
              "      <td>4.0</td>\n",
              "      <td>female</td>\n",
              "      <td>European</td>\n",
              "      <td>2016-08-01</td>\n",
              "      <td>travel_holidays</td>\n",
              "      <td>NaN</td>\n",
              "      <td>https://trustpilot.com/review/justfly.com</td>\n",
              "      <td>1</td>\n",
              "    </tr>\n",
              "  </tbody>\n",
              "</table>\n",
              "</div>"
            ],
            "text/plain": [
              "   Unnamed: 0  ... label\n",
              "0       19769  ...     0\n",
              "1      127049  ...     1\n",
              "2      211740  ...     1\n",
              "3      116665  ...     1\n",
              "4       19867  ...     1\n",
              "\n",
              "[5 rows x 11 columns]"
            ]
          },
          "metadata": {
            "tags": []
          },
          "execution_count": 2
        }
      ]
    },
    {
      "cell_type": "code",
      "metadata": {
        "id": "cCn4ivm2FFS3",
        "colab_type": "code",
        "colab": {}
      },
      "source": [
        "#defining train and test variables\n",
        "x_train=train['text']\n",
        "y_train=train['label']\n",
        "x_test=test['text']\n",
        "y_test=test['label']\n",
        "\n",
        "val_dat = (np.array([i for i in x_test.values]), y_test.values)"
      ],
      "execution_count": 0,
      "outputs": []
    },
    {
      "cell_type": "code",
      "metadata": {
        "id": "28o9ZY98Gjx0",
        "colab_type": "code",
        "colab": {
          "base_uri": "https://localhost:8080/",
          "height": 403
        },
        "outputId": "429439e0-7afd-494a-bb02-49d7ef87c8c2"
      },
      "source": [
        "import tensorflow as tf\n",
        "import tensorflow_hub as hub\n",
        "#using the USE classifier\n",
        "module_url = \"https://tfhub.dev/google/universal-sentence-encoder/4\"\n",
        "#the model is defined and training is performed on the train dataset\n",
        "\n",
        "model = tf.keras.models.Sequential()\n",
        "\n",
        "model.add(hub.KerasLayer(module_url,input_shape=[],dtype=tf.string,trainable=False)) \n",
        "\n",
        "#define extra layers\n",
        "model.add(tf.keras.layers.Dense(256, activation='relu'))\n",
        "model.add(tf.keras.layers.Dense(1, activation='sigmoid'))\n",
        "\n",
        "#compile model and fitting the model\n",
        "model.compile(optimizer='adam', loss='binary_crossentropy', metrics=['accuracy'] )\n",
        "model.fit(x_train.values, \n",
        "            y_train.values, \n",
        "            epochs=10)"
      ],
      "execution_count": 4,
      "outputs": [
        {
          "output_type": "stream",
          "text": [
            "Epoch 1/10\n",
            "1563/1563 [==============================] - 27s 17ms/step - loss: 0.1917 - accuracy: 0.9229\n",
            "Epoch 2/10\n",
            "1563/1563 [==============================] - 27s 17ms/step - loss: 0.1670 - accuracy: 0.9330\n",
            "Epoch 3/10\n",
            "1563/1563 [==============================] - 27s 17ms/step - loss: 0.1565 - accuracy: 0.9375\n",
            "Epoch 4/10\n",
            "1563/1563 [==============================] - 27s 17ms/step - loss: 0.1448 - accuracy: 0.9441\n",
            "Epoch 5/10\n",
            "1563/1563 [==============================] - 26s 17ms/step - loss: 0.1339 - accuracy: 0.9490\n",
            "Epoch 6/10\n",
            "1563/1563 [==============================] - 27s 17ms/step - loss: 0.1216 - accuracy: 0.9540\n",
            "Epoch 7/10\n",
            "1563/1563 [==============================] - 27s 17ms/step - loss: 0.1104 - accuracy: 0.9600\n",
            "Epoch 8/10\n",
            "1563/1563 [==============================] - 27s 17ms/step - loss: 0.0993 - accuracy: 0.9651\n",
            "Epoch 9/10\n",
            "1563/1563 [==============================] - 27s 17ms/step - loss: 0.0882 - accuracy: 0.9701\n",
            "Epoch 10/10\n",
            "1563/1563 [==============================] - 27s 17ms/step - loss: 0.0778 - accuracy: 0.9739\n"
          ],
          "name": "stdout"
        },
        {
          "output_type": "execute_result",
          "data": {
            "text/plain": [
              "<tensorflow.python.keras.callbacks.History at 0x7f7a7f4e5dd8>"
            ]
          },
          "metadata": {
            "tags": []
          },
          "execution_count": 4
        }
      ]
    },
    {
      "cell_type": "markdown",
      "metadata": {
        "id": "1U69oFQHNCEP",
        "colab_type": "text"
      },
      "source": [
        "So we can see that the model achieves around 97% accuracy in correcctly labeling whether the given Trustpilot review amounts in a good or a bad rating."
      ]
    }
  ]
}